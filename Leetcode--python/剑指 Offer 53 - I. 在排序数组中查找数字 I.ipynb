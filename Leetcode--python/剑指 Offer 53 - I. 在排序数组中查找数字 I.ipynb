{
 "cells": [
  {
   "cell_type": "markdown",
   "metadata": {},
   "source": [
    "# 剑指 Offer 53 - I. 在排序数组中查找数字 I\n",
    "统计一个数字在排序数组中出现的次数。"
   ]
  },
  {
   "cell_type": "markdown",
   "metadata": {},
   "source": [
    "示例 1:  \n",
    "\n",
    "输入: nums = [5,7,7,8,8,10], target = 8   \n",
    "输出: 2  \n",
    "示例 2:  \n",
    "输入: nums = [5,7,7,8,8,10], target = 6    \n",
    "输出: 0\n"
   ]
  },
  {
   "cell_type": "code",
   "execution_count": 6,
   "metadata": {},
   "outputs": [
    {
     "data": {
      "text/plain": [
       "2"
      ]
     },
     "execution_count": 6,
     "metadata": {},
     "output_type": "execute_result"
    }
   ],
   "source": [
    "class Solution:\n",
    "    def search(self, nums, target):\n",
    "        m = len(nums)\n",
    "        s = 0\n",
    "        l, r = 0, m-1\n",
    "        while  l <= r:\n",
    "            mid = (l+r) // 2\n",
    "            if nums[mid] > target:\n",
    "                r = mid - 1\n",
    "            else:\n",
    "                l = mid + 1\n",
    "            for i in range(l,r):\n",
    "                if nums[i] == target:\n",
    "                    s += 1\n",
    "                else:\n",
    "                    i += 1\n",
    "        return s\n",
    "         \n",
    "nums = [5,7,7,8,8,10]\n",
    "target = 8\n",
    "result = Solution()\n",
    "result.search(nums, target)"
   ]
  },
  {
   "cell_type": "code",
   "execution_count": 4,
   "metadata": {},
   "outputs": [
    {
     "data": {
      "text/plain": [
       "2"
      ]
     },
     "execution_count": 4,
     "metadata": {},
     "output_type": "execute_result"
    }
   ],
   "source": [
    "class Solution:\n",
    "    def search(self, nums, target):\n",
    "        s = 0\n",
    "        m = len(nums)\n",
    "        for i in range(m):\n",
    "            if nums[i] != target:\n",
    "                i += 1\n",
    "            else:\n",
    "                s +=1\n",
    "        return s\n",
    "        \n",
    "nums = [5,7,7,8,8,10]\n",
    "target = 8\n",
    "result = Solution()\n",
    "result.search(nums, target)"
   ]
  },
  {
   "cell_type": "code",
   "execution_count": 13,
   "metadata": {},
   "outputs": [
    {
     "data": {
      "text/plain": [
       "0"
      ]
     },
     "execution_count": 13,
     "metadata": {},
     "output_type": "execute_result"
    }
   ],
   "source": [
    "class Solution:\n",
    "    def search(self, nums, target):\n",
    "        m = len(nums)\n",
    "        l,r = 0,m-1\n",
    "        while l <= r:\n",
    "            m = (l+r)//2\n",
    "            if nums[m]<=target:   # 这个是找出重复数字的上界\n",
    "                l = m+1\n",
    "            else:\n",
    "                r = m-1\n",
    "        right = l\n",
    "        # 查找完右边界后，可用 nums[j] = j 判断数组中是否包含target ，若不包含则直接提前返回 0\n",
    "        if r >= 0 and nums[r] != target:\n",
    "            return 0\n",
    "        l = 0\n",
    "        while l <= r:\n",
    "            m = (l+r)//2\n",
    "            if nums[m]<target:  # 这个是找出关于重复数字的下界\n",
    "                l = m+1\n",
    "            else:\n",
    "                r = m-1\n",
    "        left = r\n",
    "        return right-left-1\n",
    "\n",
    "        \n",
    "nums = [5,7,7,8,8,10]\n",
    "target = 9\n",
    "result = Solution()\n",
    "result.search(nums, target)"
   ]
  },
  {
   "cell_type": "code",
   "execution_count": 12,
   "metadata": {},
   "outputs": [
    {
     "data": {
      "text/plain": [
       "2"
      ]
     },
     "execution_count": 12,
     "metadata": {},
     "output_type": "execute_result"
    }
   ],
   "source": [
    "class Solution:\n",
    "    def search(self, nums: [int], target: int) -> int:\n",
    "        def helper(tar):\n",
    "            i, j = 0, len(nums) - 1\n",
    "            while i <= j:\n",
    "                m = (i + j) // 2\n",
    "                if nums[m] <= tar: i = m + 1\n",
    "                else: j = m - 1\n",
    "            return i\n",
    "        return helper(target) - helper(target - 1)  #  8的最后一个位置的索引减去7的最后一个位置的索引\n",
    "nums = [5,7,7,8,8,10]\n",
    "target = 8\n",
    "result = Solution()\n",
    "result.search(nums, target)"
   ]
  },
  {
   "cell_type": "code",
   "execution_count": 15,
   "metadata": {},
   "outputs": [
    {
     "data": {
      "text/plain": [
       "2"
      ]
     },
     "execution_count": 15,
     "metadata": {},
     "output_type": "execute_result"
    }
   ],
   "source": [
    "class Solution:\n",
    "    def search(self, nums: [int], target: int) -> int:\n",
    "        i=0\n",
    "        j=len(nums)-1\n",
    "        if target not in nums:\n",
    "            return 0\n",
    "        while nums[i] !=target or nums[j] !=target:\n",
    "            if nums[i] !=target:i+=1  \n",
    "            if nums[j] !=target:j-=1      \n",
    "        return j-i+1\n",
    "\n",
    "nums = [5,7,7,8,8,10]\n",
    "target = 8\n",
    "result = Solution()\n",
    "result.search(nums, target)\n"
   ]
  },
  {
   "cell_type": "code",
   "execution_count": null,
   "metadata": {},
   "outputs": [],
   "source": []
  }
 ],
 "metadata": {
  "kernelspec": {
   "display_name": "Python 3",
   "language": "python",
   "name": "python3"
  },
  "language_info": {
   "codemirror_mode": {
    "name": "ipython",
    "version": 3
   },
   "file_extension": ".py",
   "mimetype": "text/x-python",
   "name": "python",
   "nbconvert_exporter": "python",
   "pygments_lexer": "ipython3",
   "version": "3.7.6"
  }
 },
 "nbformat": 4,
 "nbformat_minor": 4
}
