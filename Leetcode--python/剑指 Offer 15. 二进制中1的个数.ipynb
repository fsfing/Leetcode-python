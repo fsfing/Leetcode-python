{
 "cells": [
  {
   "cell_type": "markdown",
   "metadata": {},
   "source": [
    "### 请实现一个函数，输入一个整数，输出该数二进制表示中 1 的个数。例如，把 9 表示成二进制是 1001，有 2 位是 1。因此，如果输入 9，则该函数输出 2。\n",
    "\n"
   ]
  },
  {
   "cell_type": "code",
   "execution_count": null,
   "metadata": {},
   "outputs": [],
   "source": []
  },
  {
   "cell_type": "code",
   "execution_count": 7,
   "metadata": {},
   "outputs": [
    {
     "name": "stdout",
     "output_type": "stream",
     "text": [
      "输入的二进制串为0b101\n"
     ]
    },
    {
     "data": {
      "text/plain": [
       "2"
      ]
     },
     "execution_count": 7,
     "metadata": {},
     "output_type": "execute_result"
    }
   ],
   "source": [
    "class Solution:\n",
    "    def hammingWeight(self, n):\n",
    "        n_abs =abs(n)\n",
    "        n_abs_bin = bin(n_abs)\n",
    "        print(f'输入的二进制串为{n_abs_bin}')\n",
    "        n_list = list(n_abs_bin)\n",
    "        \n",
    "        sums = 0\n",
    "        for i in range(2, len(n_list)):\n",
    "            if n_list[i] == '1':\n",
    "                sums += 1\n",
    "        return sums\n",
    "res = Solution()\n",
    "res.hammingWeight(5)"
   ]
  },
  {
   "cell_type": "code",
   "execution_count": 21,
   "metadata": {},
   "outputs": [
    {
     "data": {
      "text/plain": [
       "0"
      ]
     },
     "execution_count": 21,
     "metadata": {},
     "output_type": "execute_result"
    }
   ],
   "source": []
  },
  {
   "cell_type": "code",
   "execution_count": 11,
   "metadata": {},
   "outputs": [
    {
     "name": "stdout",
     "output_type": "stream",
     "text": [
      "[(0, '张飞'), (1, '刘备'), (2, '关羽'), (3, '曹操'), (4, '诸葛亮'), (5, '黄忠')]\n"
     ]
    }
   ],
   "source": [
    "name = [\"张飞\", \"刘备\", \"关羽\", \"曹操\", \"诸葛亮\", \"黄忠\"]\n",
    "print([i for i in enumerate(name, start=0)])"
   ]
  },
  {
   "cell_type": "code",
   "execution_count": 13,
   "metadata": {},
   "outputs": [
    {
     "name": "stdout",
     "output_type": "stream",
     "text": [
      "['0', 'b', '1', '0', '1']\n",
      "<generator object <genexpr> at 0x0000012F469BFEC8>\n"
     ]
    }
   ],
   "source": [
    "n = 5\n",
    "n_abs =abs(n)\n",
    "n_abs_bin = bin(n_abs)\n",
    "n_list = list(n_abs_bin)\n",
    "print(n_list)\n",
    "print(i for i in enumerate(n_list))"
   ]
  },
  {
   "cell_type": "code",
   "execution_count": 16,
   "metadata": {},
   "outputs": [
    {
     "name": "stdout",
     "output_type": "stream",
     "text": [
      "<enumerate object at 0x0000012F46E1DE58>\n"
     ]
    }
   ],
   "source": []
  },
  {
   "cell_type": "code",
   "execution_count": null,
   "metadata": {},
   "outputs": [],
   "source": []
  }
 ],
 "metadata": {
  "kernelspec": {
   "display_name": "Python 3",
   "language": "python",
   "name": "python3"
  },
  "language_info": {
   "codemirror_mode": {
    "name": "ipython",
    "version": 3
   },
   "file_extension": ".py",
   "mimetype": "text/x-python",
   "name": "python",
   "nbconvert_exporter": "python",
   "pygments_lexer": "ipython3",
   "version": "3.7.6"
  }
 },
 "nbformat": 4,
 "nbformat_minor": 4
}
