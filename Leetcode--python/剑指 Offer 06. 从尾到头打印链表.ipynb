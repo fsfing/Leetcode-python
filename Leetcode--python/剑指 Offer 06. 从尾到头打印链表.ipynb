{
 "cells": [
  {
   "cell_type": "markdown",
   "metadata": {},
   "source": [
    "# 剑指 Offer 06. 从尾到头打印链表"
   ]
  },
  {
   "cell_type": "markdown",
   "metadata": {},
   "source": [
    "输入一个链表的头节点，从尾到头反过来返回每个节点的值（用数组返回）。  \n",
    "\n",
    " \n",
    "\n",
    "示例 1：  \n",
    "\n",
    "输入：head = [1,3,2]  \n",
    "输出：[2,3,1]"
   ]
  },
  {
   "cell_type": "markdown",
   "metadata": {},
   "source": [
    "## 递归\n",
    "**递归方式：**  \n",
    "\n",
    "- 递归终止条件：当head=None时，说明链表已经到结尾了，返回空的列表。  \n",
    "- 递归递推条件：访问下一个节点head=head.next。  \n",
    "- 回溯方式：下一步递归返回结果list + [head.val]（不同的语言有不同的实现方式）。  \n",
    "\n",
    "**复杂度分析**  \n",
    "\n",
    "- 时间复杂度O(N)：遍历链表N次  \n",
    "- 空间复杂度O(N)：系统递归需要使用O(N)这么大的栈空间  \n",
    "\n"
   ]
  },
  {
   "cell_type": "code",
   "execution_count": null,
   "metadata": {},
   "outputs": [],
   "source": [
    "class Solution:\n",
    "    def reversePrint(self, head: ListNode) -> List[int]:\n",
    "        if head is None:\n",
    "            return []\n",
    "        res = self.reversePrint(head.next)\n",
    "        res.append(head.val)\n",
    "        return res"
   ]
  },
  {
   "cell_type": "markdown",
   "metadata": {},
   "source": [
    "## 辅助栈法"
   ]
  },
  {
   "cell_type": "markdown",
   "metadata": {},
   "source": [
    "对于题目中的单项链表来说，只能从前往后访问每个节点，题目要求倒序输出各个节点的值，很容易就可以联想到栈这种先进后出的数据结构了。如果使用Python的话，在遍历一个链表的时候，将值依次放入到一个list中，遍历结束后，翻转list输出即可。\n",
    "  \n",
    "复杂度分析  \n",
    "\n",
    "- 时间复杂度O(N)：list添加数据N次  \n",
    "\n",
    "- 空间复杂度O(N)：list存储结果O(N)这么大的空间  \n",
    "\n"
   ]
  },
  {
   "cell_type": "code",
   "execution_count": null,
   "metadata": {},
   "outputs": [],
   "source": [
    "class Solution:\n",
    "    def reversePrint(self, head: ListNode) -> List[int]:\n",
    "        stack = []\n",
    "        while head:\n",
    "            stack.append(head.val)\n",
    "            head = head.next\n",
    "        return stack[::-1]\n",
    "\n"
   ]
  },
  {
   "cell_type": "markdown",
   "metadata": {},
   "source": [
    "### 使用 Python 利用函数建立链表 ----- 目前不懂"
   ]
  },
  {
   "cell_type": "code",
   "execution_count": 21,
   "metadata": {},
   "outputs": [
    {
     "ename": "AttributeError",
     "evalue": "'list' object has no attribute 'next'",
     "output_type": "error",
     "traceback": [
      "\u001b[1;31m---------------------------------------------------------------------------\u001b[0m",
      "\u001b[1;31mAttributeError\u001b[0m                            Traceback (most recent call last)",
      "\u001b[1;32m<ipython-input-21-730d2378c329>\u001b[0m in \u001b[0;36m<module>\u001b[1;34m\u001b[0m\n\u001b[0;32m     22\u001b[0m \u001b[1;33m\u001b[0m\u001b[0m\n\u001b[0;32m     23\u001b[0m \u001b[0mresult\u001b[0m \u001b[1;33m=\u001b[0m \u001b[0mSolution\u001b[0m\u001b[1;33m(\u001b[0m\u001b[1;33m)\u001b[0m\u001b[1;33m\u001b[0m\u001b[1;33m\u001b[0m\u001b[0m\n\u001b[1;32m---> 24\u001b[1;33m \u001b[0mresult\u001b[0m\u001b[1;33m.\u001b[0m\u001b[0mreversePrint\u001b[0m\u001b[1;33m(\u001b[0m\u001b[0mhead\u001b[0m\u001b[1;33m)\u001b[0m\u001b[1;33m\u001b[0m\u001b[1;33m\u001b[0m\u001b[0m\n\u001b[0m\u001b[0;32m     25\u001b[0m \u001b[1;33m\u001b[0m\u001b[0m\n\u001b[0;32m     26\u001b[0m \u001b[1;32mif\u001b[0m \u001b[0m__name__\u001b[0m \u001b[1;33m==\u001b[0m \u001b[1;34m'__main__'\u001b[0m\u001b[1;33m:\u001b[0m\u001b[1;33m\u001b[0m\u001b[1;33m\u001b[0m\u001b[0m\n",
      "\u001b[1;32m<ipython-input-21-730d2378c329>\u001b[0m in \u001b[0;36mreversePrint\u001b[1;34m(self, ListNodes)\u001b[0m\n\u001b[0;32m     16\u001b[0m         \u001b[1;32mif\u001b[0m \u001b[0mhead\u001b[0m \u001b[1;32mis\u001b[0m \u001b[1;32mNone\u001b[0m\u001b[1;33m:\u001b[0m\u001b[1;33m\u001b[0m\u001b[1;33m\u001b[0m\u001b[0m\n\u001b[0;32m     17\u001b[0m             \u001b[1;32mreturn\u001b[0m \u001b[1;33m[\u001b[0m\u001b[1;33m]\u001b[0m\u001b[1;33m\u001b[0m\u001b[1;33m\u001b[0m\u001b[0m\n\u001b[1;32m---> 18\u001b[1;33m         \u001b[0mres\u001b[0m \u001b[1;33m=\u001b[0m \u001b[0mself\u001b[0m\u001b[1;33m.\u001b[0m\u001b[0mreversePrint\u001b[0m\u001b[1;33m(\u001b[0m\u001b[0mhead\u001b[0m\u001b[1;33m.\u001b[0m\u001b[0mnext\u001b[0m\u001b[1;33m)\u001b[0m  \u001b[1;31m# 递归到尾部\u001b[0m\u001b[1;33m\u001b[0m\u001b[1;33m\u001b[0m\u001b[0m\n\u001b[0m\u001b[0;32m     19\u001b[0m         \u001b[0mres\u001b[0m\u001b[1;33m.\u001b[0m\u001b[0mappend\u001b[0m\u001b[1;33m(\u001b[0m\u001b[0mhead\u001b[0m\u001b[1;33m.\u001b[0m\u001b[0mval\u001b[0m\u001b[1;33m)\u001b[0m  \u001b[1;31m#将对应的当前值 尾部差入\u001b[0m\u001b[1;33m\u001b[0m\u001b[1;33m\u001b[0m\u001b[0m\n\u001b[0;32m     20\u001b[0m         \u001b[1;32mreturn\u001b[0m \u001b[0mres\u001b[0m\u001b[1;33m\u001b[0m\u001b[1;33m\u001b[0m\u001b[0m\n",
      "\u001b[1;31mAttributeError\u001b[0m: 'list' object has no attribute 'next'"
     ]
    }
   ],
   "source": [
    "class ListNode:\n",
    "    def __init__(self, x):\n",
    "        self.val = x\n",
    "        self.next = None\n",
    "\n",
    "\n",
    "\n",
    "    def reversePrint(self, ListNodes):\n",
    "        if head is None:\n",
    "            return []\n",
    "        res = self.reversePrint(head.next)  # 递归到尾部\n",
    "        res.append(head.val)  #将对应的当前值 尾部差入\n",
    "        return res\n",
    "    \n",
    "def unitest():\n",
    "    linked_list = None\n",
    "    linked_list = add_to_tail(linked_list, 1)\n",
    "    linked_list = add_to_tail(linked_list, 2)\n",
    "    linked_list = add_to_tail(linked_list, 3)\n",
    "    linked_list = add_to_tail(linked_list, 5)\n",
    "    linked_list = add_to_tail(linked_list, 4)\n",
    "    print(\"Print forward: \", end='')\n",
    "    print_linked_list_forward(linked_list)\n",
    "    print(\"Print reversely iteratively: \", end='') \n",
    "    print_list_reversely_iteratively(linked_list)\n",
    "    print(\"Print reversely recursively: \", end='') \n",
    "    print_list_reversely_recursively(linked_list)\n",
    "\n",
    "\n",
    "if __name__ == '__main__':\n",
    "    unitest()"
   ]
  },
  {
   "cell_type": "code",
   "execution_count": 19,
   "metadata": {},
   "outputs": [
    {
     "name": "stdout",
     "output_type": "stream",
     "text": [
      "Print forward: 1 -> 2 -> 3 -> 5 -> 4\n",
      "Print reversely iteratively: 4, 5, 3, 2, 1, \n",
      "Print reversely recursively: 4, 5, 3, 2, 1, "
     ]
    }
   ],
   "source": [
    "from __future__ import print_function\n",
    "\n",
    "\n",
    "class ListNode:\n",
    "    def __init__(self, value, next_node=None):\n",
    "        self.value = value\n",
    "        self.next = next_node\n",
    "\n",
    "\n",
    "def add_to_tail(head, value):\n",
    "    q = ListNode(value)\n",
    "\n",
    "    if head is None:\n",
    "        head = q\n",
    "    else:\n",
    "        p = head\n",
    "        while p.next is not None:\n",
    "            p = p.next\n",
    "        p.next = q\n",
    "\n",
    "    return head \n",
    "\n",
    "\n",
    "def print_list_reversely_iteratively(head):\n",
    "    p = head\n",
    "    stack = []\n",
    "    # Push into stack\n",
    "    while p is not None:\n",
    "        stack.append(p.value)\n",
    "        p = p.next\n",
    "    # Pop from stack\n",
    "    while stack:\n",
    "        elem = stack.pop()\n",
    "        print(elem, end=', ')\n",
    "    print('')\n",
    "\n",
    "    \n",
    "def print_list_reversely_recursively(head):\n",
    "    if head is None:\n",
    "        return\n",
    "    if head.next is not None:\n",
    "        print_list_reversely_recursively(head.next)\n",
    "    print(head.value, end=', ')\n",
    "        \n",
    "\n",
    "def print_linked_list_forward(head):\n",
    "    if head is None:\n",
    "        print(\"This linked list is empty!\")\n",
    "        return\n",
    "    \n",
    "    p = head\n",
    "    while p is not None:\n",
    "        print(p.value, end='')\n",
    "        if p.next is not None:\n",
    "            print(' -> ', end='')\n",
    "        p = p.next\n",
    "    print('')\n",
    "\n",
    "            \n",
    "def unitest():\n",
    "    linked_list = None\n",
    "    linked_list = add_to_tail(linked_list, 1)\n",
    "    linked_list = add_to_tail(linked_list, 2)\n",
    "    linked_list = add_to_tail(linked_list, 3)\n",
    "    linked_list = add_to_tail(linked_list, 5)\n",
    "    linked_list = add_to_tail(linked_list, 4)\n",
    "    print(\"Print forward: \", end='')\n",
    "    print_linked_list_forward(linked_list)\n",
    "    print(\"Print reversely iteratively: \", end='') \n",
    "    print_list_reversely_iteratively(linked_list)\n",
    "    print(\"Print reversely recursively: \", end='') \n",
    "    print_list_reversely_recursively(linked_list)\n",
    "\n",
    "\n",
    "if __name__ == '__main__':\n",
    "    unitest()"
   ]
  },
  {
   "cell_type": "code",
   "execution_count": null,
   "metadata": {},
   "outputs": [],
   "source": []
  }
 ],
 "metadata": {
  "kernelspec": {
   "display_name": "Python 3",
   "language": "python",
   "name": "python3"
  },
  "language_info": {
   "codemirror_mode": {
    "name": "ipython",
    "version": 3
   },
   "file_extension": ".py",
   "mimetype": "text/x-python",
   "name": "python",
   "nbconvert_exporter": "python",
   "pygments_lexer": "ipython3",
   "version": "3.7.6"
  }
 },
 "nbformat": 4,
 "nbformat_minor": 4
}
