{
 "cells": [
  {
   "cell_type": "code",
   "execution_count": 6,
   "metadata": {},
   "outputs": [
    {
     "name": "stdout",
     "output_type": "stream",
     "text": [
      "该数组的最小值为: 1\n"
     ]
    }
   ],
   "source": [
    "# 二分法\n",
    "class Solution:\n",
    "    def minArray(self, numbers):\n",
    "        l, r = 0, len(numbers)-1\n",
    "        while l < r:\n",
    "            mid = (l+r)//2  # 取整\n",
    "            # 由于原始数组是递增，那么旋转之后，旋转点左右的两部分仍然是递增的\n",
    "            # 这里记原始数组中旋转点左侧的数组为 A，原始数组中旋转点右侧的数组为 B\n",
    "            # 旋转之后有原来的 AB 变成了 BA，\n",
    "            if numbers[mid] > numbers[r]:\n",
    "                # 说明mid在原来的 B 部分\n",
    "                l = mid + 1\n",
    "            elif numbers[mid] < numbers[r]:\n",
    "                # 说明mid在A部分\n",
    "                r = mid\n",
    "            else:\n",
    "                r -= 1\n",
    "        return numbers[l]\n",
    "numbers = [3,4,5,1,2]\n",
    "res = Solution()\n",
    "print(\"该数组的最小值为:\",res.minArray(numbers))\n"
   ]
  },
  {
   "cell_type": "markdown",
   "metadata": {},
   "source": [
    " 复杂度分析  \n",
    "\n",
    "时间复杂度：O(logN)，最坏的情况是数组全部元素相等，那么时间复杂度退化到O(N)  \n",
    "空间复杂度：O(1)"
   ]
  },
  {
   "cell_type": "code",
   "execution_count": 2,
   "metadata": {},
   "outputs": [
    {
     "data": {
      "text/plain": [
       "0"
      ]
     },
     "execution_count": 2,
     "metadata": {},
     "output_type": "execute_result"
    }
   ],
   "source": [
    "# 暴力法\n",
    "class Solution:\n",
    "    def findrepeatnumber(self,nums):\n",
    "        return min(nums)\n",
    "nums = [3,4,5,1,2]\n",
    "result = Solution()\n",
    "result.findrepeatnumber(nums)"
   ]
  },
  {
   "cell_type": "code",
   "execution_count": 3,
   "metadata": {},
   "outputs": [
    {
     "data": {
      "text/plain": [
       "0"
      ]
     },
     "execution_count": 3,
     "metadata": {},
     "output_type": "execute_result"
    }
   ],
   "source": []
  },
  {
   "cell_type": "code",
   "execution_count": 7,
   "metadata": {},
   "outputs": [
    {
     "data": {
      "text/plain": [
       "1"
      ]
     },
     "execution_count": 7,
     "metadata": {},
     "output_type": "execute_result"
    }
   ],
   "source": [
    "class Solution:\n",
    "    def minArray(self, nums):\n",
    "        l, r = 0, len(nums) - 1\n",
    "\n",
    "        while l < r:\n",
    "            mid = (l + r) // 2\n",
    "            if nums[mid] > nums[r]:\n",
    "                l = mid + 1\n",
    "            elif nums[mid] < nums[r]:\n",
    "                r = mid\n",
    "            else:\n",
    "                r -= 1\n",
    "        return nums[r]\n",
    "\n",
    "nums = [3,4,5,1,2]\n",
    "result = Solution()\n",
    "result.minArray(nums)"
   ]
  },
  {
   "cell_type": "markdown",
   "metadata": {},
   "source": [
    "![](minArray-二分法.png)"
   ]
  },
  {
   "cell_type": "code",
   "execution_count": null,
   "metadata": {},
   "outputs": [],
   "source": []
  }
 ],
 "metadata": {
  "kernelspec": {
   "display_name": "Python 3",
   "language": "python",
   "name": "python3"
  },
  "language_info": {
   "codemirror_mode": {
    "name": "ipython",
    "version": 3
   },
   "file_extension": ".py",
   "mimetype": "text/x-python",
   "name": "python",
   "nbconvert_exporter": "python",
   "pygments_lexer": "ipython3",
   "version": "3.7.6"
  }
 },
 "nbformat": 4,
 "nbformat_minor": 4
}
