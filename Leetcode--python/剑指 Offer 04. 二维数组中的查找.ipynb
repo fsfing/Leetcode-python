{
 "cells": [
  {
   "cell_type": "markdown",
   "metadata": {},
   "source": [
    "## 剑指 Offer 04. 二维数组中的查找\n",
    "由于每一行都按照从左到右递增的顺序排序，每一列都按照从上到下递增的顺序排序。因此最开始选定矩形右上角的数和target值进行比较。右上角的数，在同一行中是最大，在同一列中是最小，如果该值等于target，那么找到，返回True;如果该值大于target,那么剔除该值所在的列；如果该值小于target,那么剔除该值所在的行。一直遍历到左下角数字结束或者找到数字结束。  \n",
    "举例说明：从数组中查找数组7。首先右上角数字9和7比较，9的位置为[0,3],9大于7，那么剔除9所在的列，9 12 13 15 ,位置变为[0,2],为8，8大于7，那么剔除8所在的列，位置变为[0,1],值为2，2小于7，剔除2所在的行，位置变为[1,1],值为4，4小于7，剔除4所在的行，位置变为[2,1],值为7，找到，返回True.  \n",
    "时间复杂度为O(M+N)，空间复杂度为O(1)"
   ]
  },
  {
   "cell_type": "code",
   "execution_count": 1,
   "metadata": {},
   "outputs": [
    {
     "name": "stdout",
     "output_type": "stream",
     "text": [
      "6\n",
      "5\n"
     ]
    }
   ],
   "source": [
    "matrix = [\n",
    "  [1,   4,  7, 11, 15, 16],\n",
    "  [2,   5,  8, 12, 19, 24],\n",
    "  [3,   6,  9, 16, 22, 32],\n",
    "  [10, 13, 14, 17, 24, 36],\n",
    "  [18, 21, 23, 26, 30, 32],\n",
    "\n",
    "]\n",
    "\n",
    "print(len(matrix[0]))\n",
    "print(len(matrix))\n"
   ]
  },
  {
   "cell_type": "code",
   "execution_count": 2,
   "metadata": {},
   "outputs": [
    {
     "data": {
      "text/plain": [
       "True"
      ]
     },
     "execution_count": 2,
     "metadata": {},
     "output_type": "execute_result"
    }
   ],
   "source": [
    "class Solution:\n",
    "    def findNumberIn2DArray(self, matrix, target):\n",
    "        i = 0\n",
    "        if len(matrix)  == 0:  #判断矩阵行数是否为0 \n",
    "            return False\n",
    "        j = len(matrix[0]) - 1   #len(matrix[0]) = 5,对应matrix[0]是第一行的元素\n",
    "        while i <len(matrix) and j >= 0:\n",
    "            if matrix[i][j] == target:\n",
    "                return True\n",
    "            elif matrix[i][j] > target:\n",
    "                j -= 1\n",
    "            else:\n",
    "                i += 1\n",
    "        return False\n",
    "matrix = [\n",
    "  [1,   4,  7, 11, 15],\n",
    "  [2,   5,  8, 12, 19],\n",
    "  [3,   6,  9, 16, 22],\n",
    "  [10, 13, 14, 17, 24],\n",
    "  [18, 21, 23, 26, 30]\n",
    "]\n",
    "target = 5\n",
    "result = Solution()\n",
    "result.findNumberIn2DArray(matrix,target)"
   ]
  },
  {
   "cell_type": "code",
   "execution_count": null,
   "metadata": {},
   "outputs": [],
   "source": []
  }
 ],
 "metadata": {
  "kernelspec": {
   "display_name": "Python 3",
   "language": "python",
   "name": "python3"
  },
  "language_info": {
   "codemirror_mode": {
    "name": "ipython",
    "version": 3
   },
   "file_extension": ".py",
   "mimetype": "text/x-python",
   "name": "python",
   "nbconvert_exporter": "python",
   "pygments_lexer": "ipython3",
   "version": "3.7.6"
  }
 },
 "nbformat": 4,
 "nbformat_minor": 4
}
