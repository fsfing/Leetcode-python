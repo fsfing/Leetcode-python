{
 "cells": [
  {
   "cell_type": "markdown",
   "metadata": {},
   "source": [
    "输入一个整数数组，实现一个函数来调整该数组中数字的顺序，使得所有奇数位于数组的前半部分，所有偶数位于数组的后半部分。\n",
    "\n",
    "示例： \n",
    "\n",
    "输入：nums = [1,2,3,4]  \n",
    "输出：[1,3,2,4]   \n",
    "注：[3,1,2,4] 也是正确的答案之一。"
   ]
  },
  {
   "cell_type": "code",
   "execution_count": 28,
   "metadata": {},
   "outputs": [
    {
     "data": {
      "text/plain": [
       "[1, 3, 9, 7, 2, 4, 6]"
      ]
     },
     "execution_count": 28,
     "metadata": {},
     "output_type": "execute_result"
    }
   ],
   "source": [
    "\"\"\"\n",
    "set 会删除数组中的重复元素\n",
    "\"\"\"       \n",
    "\n",
    "class Solution:\n",
    "    def exchange(self,nums):\n",
    "        nums_ji = []\n",
    "        nums_ou = []\n",
    "        for i in range(len(nums)):\n",
    "            if (nums[i]%2) == 0:\n",
    "                nums_ou.append(nums[i])\n",
    "        nums_ji = list(set(nums) - set(nums_ou))\n",
    "        nums_ji.extend(nums_ou)\n",
    "        return nums_ji\n",
    "    \n",
    "nums = [1,2,3,4,6,7,9]\n",
    "res = Solution()\n",
    "res.exchange(nums)\n",
    "              "
   ]
  },
  {
   "cell_type": "code",
   "execution_count": 19,
   "metadata": {},
   "outputs": [
    {
     "name": "stdout",
     "output_type": "stream",
     "text": [
      "[1, 3, 9, 7]\n",
      "[2, 4, 6]\n",
      "[1, 3, 9, 7, 2, 4, 6]\n"
     ]
    }
   ],
   "source": [
    "A = [1,2,3,4,6,7,9]\n",
    "b = []\n",
    "c = []\n",
    "for i in range(0,len(A)):\n",
    "    if (A[i] % 2) == 0:\n",
    "        b.append(A[i])\n",
    "c = list(set(A) - set(b))\n",
    "print(c)\n",
    "print(b) \n",
    "print(c + b)"
   ]
  },
  {
   "cell_type": "code",
   "execution_count": 37,
   "metadata": {},
   "outputs": [
    {
     "data": {
      "text/plain": [
       "[1, 9, 3, 7, 6, 4, 2]"
      ]
     },
     "execution_count": 37,
     "metadata": {},
     "output_type": "execute_result"
    }
   ],
   "source": [
    "class Solution:\n",
    "    def exchange(self,nums):\n",
    "        left, right = 0, len(nums)-1 \n",
    "        while left < right:\n",
    "            while left < right and nums[left] & 1 == 1:\n",
    "                left += 1     \n",
    "            while left < right and nums[right] & 1 == 0:\n",
    "                right -= 1\n",
    "            nums[left], nums[right] = nums[right], nums[left]\n",
    "        return nums\n",
    "nums = [1,2,3,4,6,7,9]\n",
    "res = Solution()\n",
    "res.exchange(nums)\n",
    "              "
   ]
  },
  {
   "cell_type": "code",
   "execution_count": 39,
   "metadata": {},
   "outputs": [
    {
     "data": {
      "text/plain": [
       "[1, 9, 3, 7, 6, 4, 2]"
      ]
     },
     "execution_count": 39,
     "metadata": {},
     "output_type": "execute_result"
    }
   ],
   "source": [
    "class Solution:\n",
    "    def exchange(self,nums):\n",
    "        left, right = 0, len(nums)-1 \n",
    "        while left < right:\n",
    "            while left < right and nums[left] % 2 == 1:\n",
    "                left += 1     \n",
    "            while left < right and nums[right] % 2 == 0:\n",
    "                right -= 1\n",
    "            nums[left], nums[right] = nums[right], nums[left]\n",
    "        return nums\n",
    "nums = [1,2,3,4,6,7,9]\n",
    "res = Solution()\n",
    "res.exchange(nums)"
   ]
  },
  {
   "cell_type": "code",
   "execution_count": null,
   "metadata": {},
   "outputs": [],
   "source": []
  }
 ],
 "metadata": {
  "kernelspec": {
   "display_name": "Python 3",
   "language": "python",
   "name": "python3"
  },
  "language_info": {
   "codemirror_mode": {
    "name": "ipython",
    "version": 3
   },
   "file_extension": ".py",
   "mimetype": "text/x-python",
   "name": "python",
   "nbconvert_exporter": "python",
   "pygments_lexer": "ipython3",
   "version": "3.7.6"
  }
 },
 "nbformat": 4,
 "nbformat_minor": 4
}
