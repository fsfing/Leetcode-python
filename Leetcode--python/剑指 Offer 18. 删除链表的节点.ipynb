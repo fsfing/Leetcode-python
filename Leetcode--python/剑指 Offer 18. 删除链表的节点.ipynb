{
 "cells": [
  {
   "cell_type": "markdown",
   "metadata": {},
   "source": [
    "给定单向链表的头指针和一个要删除的节点的值，定义一个函数删除该节点。\n",
    "\n",
    "返回删除后的链表的头节点。"
   ]
  },
  {
   "cell_type": "markdown",
   "metadata": {},
   "source": [
    "示例 1:  \n",
    "输入: head = [4,5,1,9], val = 5  \n",
    "输出: [4,1,9]  \n",
    "解释: 给定你链表中值为 5 的第二个节点，那么在调用了你的函数之后，该链表应变为 4 -> 1 -> 9.  \n",
    "    \n",
    "示例 2:  \n",
    "输入: head = [4,5,1,9], val = 1  \n",
    "输出: [4,5,9]  \n",
    "解释: 给定你链表中值为 1 的第三个节点，那么在调用了你的函数之后，该链表应变为 4 -> 5 -> 9.  \n"
   ]
  },
  {
   "cell_type": "markdown",
   "metadata": {},
   "source": [
    "### 双指针"
   ]
  },
  {
   "cell_type": "code",
   "execution_count": null,
   "metadata": {},
   "outputs": [],
   "source": [
    "# Definition for singly-linked list.\n",
    "# class ListNode:\n",
    "#     def __init__(self, x):\n",
    "#         self.val = x\n",
    "#         self.next = None\n",
    "class Solution:\n",
    "    def deleteNode(self, head: ListNode, val: int) -> ListNode:\n",
    "        # 定义两个游标\n",
    "        cur = head.next\n",
    "        pre = head\n",
    "        # 如果头节点等于要删除节点的值\n",
    "        if head.val == val:\n",
    "            return head.next  # 返回删除之后的链表(即打印出除了第一个节点之外的链表内容)\n",
    "        # 游标存在 并且 游标所对应的值不为要删除节点的值\n",
    "        while cur and cur.val != val:\n",
    "            # 游标向后移动\n",
    "            pre = cur\n",
    "            cur = cur.next\n",
    "        # 删除节点的值：若 cur 指向某节点，则执行 pre.next = cur.next  \n",
    "        if cur:\n",
    "            # 删除节点的值\n",
    "            pre.next = cur.next\n",
    "        return head"
   ]
  },
  {
   "cell_type": "code",
   "execution_count": null,
   "metadata": {},
   "outputs": [],
   "source": []
  },
  {
   "cell_type": "code",
   "execution_count": null,
   "metadata": {},
   "outputs": [],
   "source": [
    "\n"
   ]
  }
 ],
 "metadata": {
  "kernelspec": {
   "display_name": "Python 3",
   "language": "python",
   "name": "python3"
  },
  "language_info": {
   "codemirror_mode": {
    "name": "ipython",
    "version": 3
   },
   "file_extension": ".py",
   "mimetype": "text/x-python",
   "name": "python",
   "nbconvert_exporter": "python",
   "pygments_lexer": "ipython3",
   "version": "3.7.6"
  }
 },
 "nbformat": 4,
 "nbformat_minor": 4
}
