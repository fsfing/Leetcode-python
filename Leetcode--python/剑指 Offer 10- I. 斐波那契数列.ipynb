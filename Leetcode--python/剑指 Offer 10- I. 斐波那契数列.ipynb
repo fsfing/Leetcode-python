{
 "cells": [
  {
   "cell_type": "code",
   "execution_count": 9,
   "metadata": {},
   "outputs": [],
   "source": []
  },
  {
   "cell_type": "code",
   "execution_count": 11,
   "metadata": {},
   "outputs": [
    {
     "name": "stdout",
     "output_type": "stream",
     "text": [
      "6.060000004026733e-05\n"
     ]
    }
   ],
   "source": [
    "\n",
    "class Solution:\n",
    "    def fib(self, n: int) -> int:\n",
    "        # NO.1 动态规划（1）\n",
    "        a, b = 0, 1\n",
    "        for i in range(n):\n",
    "            a, b = b, a+b \n",
    "        return a % 1000000007\n",
    "res = Solution()\n",
    "res.fib(45)\n",
    "# timeit(函数名_字符串，运行环境_字符串，number=运行次数)\n"
   ]
  },
  {
   "cell_type": "code",
   "execution_count": 12,
   "metadata": {},
   "outputs": [
    {
     "name": "stdout",
     "output_type": "stream",
     "text": [
      "8.520000000089567e-05\n"
     ]
    }
   ],
   "source": [
    "class Solution:\n",
    "    def Fibonacci(self, n):\n",
    "        list = [0, 1]\n",
    "        while n > 0:\n",
    "            list[0], list[1] = list[1], list[0]+list[1]\n",
    "            n -= 1\n",
    "        return list[0] % 1000000007\n",
    "res = Solution()\n",
    "res.Fibonacci(45)\n",
    "\n"
   ]
  },
  {
   "cell_type": "code",
   "execution_count": null,
   "metadata": {},
   "outputs": [],
   "source": []
  }
 ],
 "metadata": {
  "kernelspec": {
   "display_name": "Python 3",
   "language": "python",
   "name": "python3"
  },
  "language_info": {
   "codemirror_mode": {
    "name": "ipython",
    "version": 3
   },
   "file_extension": ".py",
   "mimetype": "text/x-python",
   "name": "python",
   "nbconvert_exporter": "python",
   "pygments_lexer": "ipython3",
   "version": "3.7.6"
  }
 },
 "nbformat": 4,
 "nbformat_minor": 4
}
