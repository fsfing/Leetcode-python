{
 "cells": [
  {
   "cell_type": "code",
   "execution_count": 1,
   "metadata": {},
   "outputs": [
    {
     "name": "stdout",
     "output_type": "stream",
     "text": [
      "1 2 3 4 5\n"
     ]
    }
   ],
   "source": [
    "a, b, c, d, e = 1, 2, 3, 4, 5\n",
    "print(a, b, c, d, e)"
   ]
  },
  {
   "cell_type": "code",
   "execution_count": 2,
   "metadata": {},
   "outputs": [
    {
     "name": "stdout",
     "output_type": "stream",
     "text": [
      "2 3\n"
     ]
    }
   ],
   "source": [
    "ThisNumber = 2\n",
    "this_is_number =3\n",
    "print(ThisNumber, this_is_number)"
   ]
  },
  {
   "cell_type": "code",
   "execution_count": 3,
   "metadata": {},
   "outputs": [
    {
     "name": "stdout",
     "output_type": "stream",
     "text": [
      "0\n",
      "1\n",
      "2\n"
     ]
    }
   ],
   "source": [
    "for i  in[0,1,2]:\n",
    "    print(i)"
   ]
  },
  {
   "cell_type": "code",
   "execution_count": 4,
   "metadata": {},
   "outputs": [
    {
     "name": "stdout",
     "output_type": "stream",
     "text": [
      "1\n",
      "2\n",
      "3\n",
      "4\n",
      "5\n"
     ]
    }
   ],
   "source": [
    "i = 0\n",
    "while i <5:\n",
    "    i+=1\n",
    "    print(i)"
   ]
  },
  {
   "cell_type": "code",
   "execution_count": 6,
   "metadata": {},
   "outputs": [
    {
     "name": "stdout",
     "output_type": "stream",
     "text": [
      "0\n"
     ]
    }
   ],
   "source": [
    "i = 0 \n",
    "if i <5:\n",
    "    print(i)\n",
    "else:\n",
    "    print(i+3)"
   ]
  },
  {
   "cell_type": "code",
   "execution_count": 8,
   "metadata": {},
   "outputs": [
    {
     "name": "stdout",
     "output_type": "stream",
     "text": [
      "0\n"
     ]
    }
   ],
   "source": [
    "i = 0 \n",
    "if i <5:\n",
    "    print(i)\n",
    "elif i<7:\n",
    "    print(i+3)\n",
    "else:\n",
    "    print(i+5)"
   ]
  },
  {
   "cell_type": "code",
   "execution_count": 10,
   "metadata": {},
   "outputs": [
    {
     "name": "stdout",
     "output_type": "stream",
     "text": [
      "请输入第一个数字：2\n",
      "请输入第二个数字：2\n",
      "两个数字的和为：4\n"
     ]
    }
   ],
   "source": [
    "num1= eval(input(\"请输入第一个数字：\"))\n",
    "num2= eval(input(\"请输入第二个数字：\"))\n",
    "print(\"两个数字的和为：{}\".format(num1+num2))"
   ]
  },
  {
   "cell_type": "code",
   "execution_count": 11,
   "metadata": {},
   "outputs": [
    {
     "name": "stdout",
     "output_type": "stream",
     "text": [
      "0.618\n",
      "61.8%\n"
     ]
    }
   ],
   "source": [
    "golden= 0.6180399887\n",
    "print(\"{0:.3f}\".format(golden))\n",
    "print(\"{0:.1%}\".format(golden))"
   ]
  },
  {
   "cell_type": "code",
   "execution_count": 14,
   "metadata": {},
   "outputs": [
    {
     "name": "stdout",
     "output_type": "stream",
     "text": [
      "---------*----------\n",
      "--------***---------\n",
      "-------*****--------\n",
      "------*******-------\n",
      "-----*********------\n",
      "----***********-----\n"
     ]
    }
   ],
   "source": [
    "for i in [0,1,2,3,4,5]:\n",
    "    print(\"{0:-^20}\".format(\"*\"*(2*i+1)))\n",
    "# :-^   强制居中"
   ]
  },
  {
   "cell_type": "code",
   "execution_count": 33,
   "metadata": {
    "scrolled": true
   },
   "outputs": [
    {
     "name": "stdout",
     "output_type": "stream",
     "text": [
      "python\n",
      "python\n",
      "Python is a good language\n",
      "3\n",
      "C++ is a good language\n"
     ]
    }
   ],
   "source": [
    "s = \"python is a good language\"\n",
    "print(s[:6])\n",
    "print(s[:-len(s)+6])\n",
    "print(s[:6].title() + s[6:])\n",
    "print(s.count(\"o\"))\n",
    "print(s.replace(\"python\",\"C++\"))\n"
   ]
  },
  {
   "cell_type": "code",
   "execution_count": null,
   "metadata": {},
   "outputs": [],
   "source": []
  }
 ],
 "metadata": {
  "kernelspec": {
   "display_name": "Python 3",
   "language": "python",
   "name": "python3"
  },
  "language_info": {
   "codemirror_mode": {
    "name": "ipython",
    "version": 3
   },
   "file_extension": ".py",
   "mimetype": "text/x-python",
   "name": "python",
   "nbconvert_exporter": "python",
   "pygments_lexer": "ipython3",
   "version": "3.7.6"
  }
 },
 "nbformat": 4,
 "nbformat_minor": 4
}
