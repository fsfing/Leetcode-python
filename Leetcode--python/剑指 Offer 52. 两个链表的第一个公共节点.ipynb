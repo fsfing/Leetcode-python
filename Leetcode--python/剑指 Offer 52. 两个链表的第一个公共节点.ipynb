{
 "cells": [
  {
   "cell_type": "markdown",
   "metadata": {},
   "source": [
    "# 剑指 Offer 52. 两个链表的第一个公共节点"
   ]
  },
  {
   "cell_type": "markdown",
   "metadata": {},
   "source": [
    "输入：intersectVal = 8, listA = [4,1,8,4,5], listB = [5,0,1,8,4,5], skipA = 2, skipB = 3  \n",
    "输出：Reference of the node with value = 8  \n",
    "输入解释：相交节点的值为 8 （注意，如果两个列表相交则不能为 0）。从各自的表头开始算起，链表 A 为 [4,1,8,4,5]，链表 B 为 [5,0,1,8,4,5]。在 A 中，相交节点前有 2 个节点；在 B 中，相交节点前有 3 个节点\n"
   ]
  },
  {
   "cell_type": "code",
   "execution_count": null,
   "metadata": {},
   "outputs": [],
   "source": [
    "# Definition for singly-linked list.\n",
    "# class ListNode:\n",
    "#     def __init__(self, x):\n",
    "#         self.val = x\n",
    "#         self.next = None\n",
    "\n",
    "class Solution:\n",
    "    def getIntersectionNode(self, headA: ListNode, headB: ListNode) -> ListNode:\n",
    "        pointer1, pointer2 = headA, headB\n",
    "        while pointer1 != pointer2:\n",
    "            pointer1 = pointer1.next if pointer1 else headB\n",
    "            pointer2 = pointer2.next if pointer2 else headA\n",
    "\n",
    "        return pointer1"
   ]
  },
  {
   "cell_type": "markdown",
   "metadata": {},
   "source": [
    "**解题思路1：**  \n",
    "我们使用两个指针 node1，node2 分别指向两个链表 headA，headB 的头结点，然后同时分别逐结点遍历，当 node1 到达链表 headA 的末尾时，重新定位到链表 headB 的头结点；当 node2 到达链表 headB 的末尾时，重新定位到链表 headA 的头结点。\n",
    "\n",
    "这样，当它们相遇时，所指向的结点就是第一个公共结点。  \n"
   ]
  },
  {
   "cell_type": "markdown",
   "metadata": {},
   "source": [
    "![](jianzhi-52.jpg)"
   ]
  },
  {
   "cell_type": "markdown",
   "metadata": {},
   "source": [
    "# 巧用集合\n"
   ]
  },
  {
   "cell_type": "markdown",
   "metadata": {},
   "source": [
    "先遍历A链表把所有节点都放入集合，然后遍历B，当发现集合长度不增长，说明刚才扔进去得节点是重复节点。"
   ]
  },
  {
   "cell_type": "code",
   "execution_count": null,
   "metadata": {},
   "outputs": [],
   "source": [
    "class Solution:\n",
    "    def getIntersectionNode(self, headA: ListNode, headB: ListNode) -> ListNode:\n",
    "        s = set()\n",
    "        while headA:\n",
    "            s.add(headA)\n",
    "            headA = headA.next\n",
    "        longth_A = len(s)\n",
    "        while headB:\n",
    "            s.add(headB) # 开始添加链表B到集合中\n",
    "            if longth_A == len(s): # 如果集合长度没有变化，证明链表B的头节点就是公共节点\n",
    "                return headB  # 返回头节点\n",
    "            else:   # 增长了就将原长度加1，接着向下一个节点移动\n",
    "                longth_A += 1\n",
    "                headB = headB.next\n",
    "        return None\n",
    "        \n",
    "        \n",
    "    "
   ]
  }
 ],
 "metadata": {
  "kernelspec": {
   "display_name": "Python 3",
   "language": "python",
   "name": "python3"
  },
  "language_info": {
   "codemirror_mode": {
    "name": "ipython",
    "version": 3
   },
   "file_extension": ".py",
   "mimetype": "text/x-python",
   "name": "python",
   "nbconvert_exporter": "python",
   "pygments_lexer": "ipython3",
   "version": "3.7.6"
  }
 },
 "nbformat": 4,
 "nbformat_minor": 4
}
