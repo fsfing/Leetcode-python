{
 "cells": [
  {
   "cell_type": "markdown",
   "metadata": {},
   "source": [
    "输入整数数组 arr ，找出其中最小的 k 个数。例如，输入4、5、1、6、2、7、3、8这8个数字，则最小的4个数字是1、2、3、4。\n",
    "\n",
    " \n",
    "\n",
    "示例 1：  \n",
    "输入：arr = [3,2,1], k = 2  \n",
    "输出：[1,2] 或者 [2,1]  \n",
    "\n",
    "示例 2：  \n",
    "输入：arr = [0,1,2,1], k = 1  \n",
    "输出：[0]  \n",
    "\n"
   ]
  },
  {
   "cell_type": "markdown",
   "metadata": {},
   "source": [
    "# sort and sorted"
   ]
  },
  {
   "cell_type": "code",
   "execution_count": 19,
   "metadata": {},
   "outputs": [
    {
     "name": "stdout",
     "output_type": "stream",
     "text": [
      "[1, 3, 5, 7, 8, 9]\n"
     ]
    },
    {
     "data": {
      "text/plain": [
       "[1, 3]"
      ]
     },
     "execution_count": 19,
     "metadata": {},
     "output_type": "execute_result"
    }
   ],
   "source": [
    "class Soulution():\n",
    "    def etLeastNumbers(self,arr,k):\n",
    "        l = len(arr)\n",
    "        if l != 0 :\n",
    "            arr_sorted = sorted(arr)\n",
    "            print(arr_sorted)\n",
    "            min_k_arr = arr_sorted[:k]\n",
    "        return min_k_arr\n",
    "        \n",
    "arr = [1,7,3,9,5,8] \n",
    "k = 2\n",
    "res = Soulution()\n",
    "res.etLeastNumbers(arr, k)\n",
    "\"\"\"\n",
    "set   会删除数组中重复的元素\n",
    "\"\"\""
   ]
  },
  {
   "cell_type": "code",
   "execution_count": 10,
   "metadata": {},
   "outputs": [
    {
     "data": {
      "text/plain": [
       "[1, 3]"
      ]
     },
     "execution_count": 10,
     "metadata": {},
     "output_type": "execute_result"
    }
   ],
   "source": [
    "class Soulution():\n",
    "    def etLeastNumbers(self,arr,k):\n",
    "        if 0 <= k <= len(arr) <= 10000:\n",
    "            return sorted(arr)[:k]\n",
    "    \n",
    "arr = [1,7,3,9,5,8] \n",
    "k = 2\n",
    "res = Soulution()\n",
    "res.etLeastNumbers(arr, k)"
   ]
  },
  {
   "cell_type": "code",
   "execution_count": 20,
   "metadata": {},
   "outputs": [
    {
     "data": {
      "text/plain": [
       "[1, 3]"
      ]
     },
     "execution_count": 20,
     "metadata": {},
     "output_type": "execute_result"
    }
   ],
   "source": [
    "class Soulution():\n",
    "    def etLeastNumbers(self,arr,k):\n",
    "        arr.sort()\n",
    "        return arr[:k]\n",
    "    \n",
    "arr = [1,7,3,9,5,8] \n",
    "k = 2\n",
    "res = Soulution()\n",
    "res.etLeastNumbers(arr, k)"
   ]
  },
  {
   "cell_type": "markdown",
   "metadata": {},
   "source": [
    "# 快排的思想"
   ]
  },
  {
   "cell_type": "code",
   "execution_count": null,
   "metadata": {},
   "outputs": [],
   "source": []
  },
  {
   "cell_type": "markdown",
   "metadata": {},
   "source": [
    "# 大小根堆"
   ]
  },
  {
   "cell_type": "code",
   "execution_count": null,
   "metadata": {},
   "outputs": [],
   "source": []
  },
  {
   "cell_type": "markdown",
   "metadata": {},
   "source": [
    "# 二叉树"
   ]
  },
  {
   "cell_type": "code",
   "execution_count": null,
   "metadata": {},
   "outputs": [],
   "source": []
  }
 ],
 "metadata": {
  "kernelspec": {
   "display_name": "Python 3",
   "language": "python",
   "name": "python3"
  },
  "language_info": {
   "codemirror_mode": {
    "name": "ipython",
    "version": 3
   },
   "file_extension": ".py",
   "mimetype": "text/x-python",
   "name": "python",
   "nbconvert_exporter": "python",
   "pygments_lexer": "ipython3",
   "version": "3.7.6"
  }
 },
 "nbformat": 4,
 "nbformat_minor": 4
}
