{
 "cells": [
  {
   "cell_type": "code",
   "execution_count": null,
   "metadata": {
    "scrolled": false
   },
   "outputs": [],
   "source": [
    "import pdb\n",
    "import sys\n",
    "\n",
    "def add(num1=0, num2=0):\n",
    "    return int(num1) + int(num2)\n",
    "    \n",
    "def sub(num1=0, num2=0):\n",
    "    return int(num1) - int(num2)\n",
    "    \n",
    "def main():\n",
    "    #Assuming our inputs are valid numbers\n",
    "    num1 = 33\n",
    "    num2 = 44\n",
    "    pdb.set_trace() # <-- 这个表示添加断点\n",
    "    addition = add(num1, num2)\n",
    "    print (addition)\n",
    "    subtraction = sub(num1, num2)\n",
    "    print (subtraction)\n",
    "    \n",
    "if __name__ == '__main__':\n",
    "    main()"
   ]
  },
  {
   "cell_type": "code",
   "execution_count": null,
   "metadata": {},
   "outputs": [],
   "source": [
    "\"\"\"\n",
    "下一行 - > n\n",
    "打印 - > p         # p num1\n",
    "动态添加断点 - > b\n",
    "退出 - > q\n",
    "    \n",
    "\n",
    "    ENTER (重复上次命令)\n",
    "    c (继续)\n",
    "    l (查找当前位于哪里)\n",
    "    s (进入子程序,如果当前有一个函数调用，那么 s 会进入被调用的函数体)\n",
    "    n(ext) 让程序运行下一行，如果当前语句有一个函数调用，用 n 是不会进入被调用的函数体中的\n",
    "    r (运行直到子程序结束)\n",
    "    !<python 命令>\n",
    "    h (帮助)\n",
    "    a(rgs) 打印当前函数的参数\n",
    "    j(ump) 让程序跳转到指定的行数\n",
    "    l(ist) 可以列出当前将要运行的代码块\n",
    "    p(rint) 最有用的命令之一，打印某个变量\n",
    "    q(uit) 退出调试\n",
    "    r(eturn) 继续执行，直到函数体返回\n",
    "\n",
    "\"\"\""
   ]
  }
 ],
 "metadata": {
  "kernelspec": {
   "display_name": "Python 3",
   "language": "python",
   "name": "python3"
  },
  "language_info": {
   "codemirror_mode": {
    "name": "ipython",
    "version": 3
   },
   "file_extension": ".py",
   "mimetype": "text/x-python",
   "name": "python",
   "nbconvert_exporter": "python",
   "pygments_lexer": "ipython3",
   "version": "3.7.6"
  }
 },
 "nbformat": 4,
 "nbformat_minor": 4
}
