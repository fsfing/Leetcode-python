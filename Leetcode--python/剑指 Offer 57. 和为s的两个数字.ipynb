{
 "cells": [
  {
   "cell_type": "markdown",
   "metadata": {},
   "source": [
    "输入一个递增排序的数组和一个数字s，在数组中查找两个数，使得它们的和正好是s。如果有多对数字的和等于s，则输出任意一对即可。\n",
    "\n",
    "\n",
    "\n",
    "示例 1：    \n",
    "输入：nums = [2,7,11,15], target = 9  \n",
    "输出：[2,7] 或者 [7,2]\n",
    "\n",
    "示例 2：  \n",
    "输入：nums = [10,26,30,31,47,60], target = 40  \n",
    "输出：[10,30] 或者 [30,10]\n"
   ]
  },
  {
   "cell_type": "code",
   "execution_count": 7,
   "metadata": {},
   "outputs": [],
   "source": []
  },
  {
   "cell_type": "markdown",
   "metadata": {},
   "source": [
    "# 双指针法"
   ]
  },
  {
   "cell_type": "code",
   "execution_count": 2,
   "metadata": {},
   "outputs": [
    {
     "data": {
      "text/plain": [
       "[2, 7]"
      ]
     },
     "execution_count": 2,
     "metadata": {},
     "output_type": "execute_result"
    }
   ],
   "source": [
    "class Solution:\n",
    "    def twoSum(self, nums, target):\n",
    "        \"\"\"\n",
    "        Analysis：\n",
    "        1. 递增排序\n",
    "        2. 在数组中查找两个数,和正好是s\n",
    "        \"\"\"\n",
    "        n = len(nums)\n",
    "        left, right = 0, n-1\n",
    "        while left < right:\n",
    "            sums = nums[left] + nums[right]\n",
    "            if sums == target:\n",
    "                return [nums[left], nums[right]]\n",
    "            elif sums > target:\n",
    "                right -= 1  #数组是递增的，减小索引即为减小对应的values\n",
    "            else:\n",
    "                left += 1\n",
    "target = 9 \n",
    "nums = [2,7,11,15]\n",
    "res = Solution()\n",
    "res.twoSum(nums, target)\n"
   ]
  },
  {
   "cell_type": "markdown",
   "metadata": {},
   "source": [
    "# 哈希"
   ]
  },
  {
   "cell_type": "code",
   "execution_count": 12,
   "metadata": {},
   "outputs": [
    {
     "name": "stdout",
     "output_type": "stream",
     "text": [
      "totally cost: 0.0\n"
     ]
    }
   ],
   "source": [
    "\n",
    "class Solution:\n",
    "    def twoSum(self, nums, target):\n",
    "        info=dict().fromkeys(nums)\n",
    "        for i in range(len(nums)):\n",
    "            if (target-nums[i]) in info:\n",
    "                return [nums[i],target-nums[i]]\n",
    "        return []\n",
    "\n",
    "target = 9 \n",
    "nums = [2,7,11,15]\n",
    "res = Solution()\n",
    "res.twoSum(nums, target)\n"
   ]
  },
  {
   "cell_type": "markdown",
   "metadata": {},
   "source": [
    "# set"
   ]
  },
  {
   "cell_type": "code",
   "execution_count": 4,
   "metadata": {},
   "outputs": [
    {
     "name": "stdout",
     "output_type": "stream",
     "text": [
      "{2, 11, 15, 7}\n"
     ]
    },
    {
     "data": {
      "text/plain": [
       "[2, 7]"
      ]
     },
     "execution_count": 4,
     "metadata": {},
     "output_type": "execute_result"
    }
   ],
   "source": [
    "class Solution:\n",
    "    def twoSum(self, nums, target):\n",
    "        # set() 函数创建一个无序不重复元素集，可进行关系测试，删除重复数据，还可以计算交集、差集、并集等\n",
    "        nums = set(nums)\n",
    "        print(nums)\n",
    "        if len(nums) <= 1:\n",
    "            return []\n",
    "        for i in nums:\n",
    "            if target - i in nums:\n",
    "                return [i, target - i]\n",
    "        return []\n",
    "   \n",
    "target = 9 \n",
    "nums = [2,7,11,15]\n",
    "res = Solution()\n",
    "res.twoSum(nums, target)"
   ]
  },
  {
   "cell_type": "code",
   "execution_count": null,
   "metadata": {},
   "outputs": [],
   "source": []
  }
 ],
 "metadata": {
  "kernelspec": {
   "display_name": "Python 3",
   "language": "python",
   "name": "python3"
  },
  "language_info": {
   "codemirror_mode": {
    "name": "ipython",
    "version": 3
   },
   "file_extension": ".py",
   "mimetype": "text/x-python",
   "name": "python",
   "nbconvert_exporter": "python",
   "pygments_lexer": "ipython3",
   "version": "3.7.6"
  }
 },
 "nbformat": 4,
 "nbformat_minor": 4
}
