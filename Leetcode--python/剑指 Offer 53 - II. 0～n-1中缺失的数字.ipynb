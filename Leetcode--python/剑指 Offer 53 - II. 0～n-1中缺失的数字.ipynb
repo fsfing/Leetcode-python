{
 "cells": [
  {
   "cell_type": "markdown",
   "metadata": {},
   "source": [
    "一个长度为n-1的递增排序数组中的所有数字都是唯一的，并且每个数字都在范围0～n-1之内。在范围0～n-1内的n个数字中有且只有一个数字不在该数组中，请找出这个数字。\n",
    "\n",
    "示例 1:  \n",
    "输入: [0,1,3]  \n",
    "输出: 2  \n",
    "\n",
    "示例 2:  \n",
    "输入: [0,1,2,3,4,5,6,7,9]  \n",
    "输出: 8  "
   ]
  },
  {
   "cell_type": "markdown",
   "metadata": {},
   "source": [
    "### 二分法\n",
    "本题也属于简单的二分查找，题意明确了所有数是递增的，且所有数的取值范围均在[0,n-1]上并且是唯一的，因此可以发现这样一个规律：  \n",
    "(1)只要查询过程中nums[i] == i，那么缺失的值一定在i的右侧；  \n",
    "(2)如果查询过程中nums[i] > i，那么缺失的值一定在左侧  \n",
    "\n"
   ]
  },
  {
   "cell_type": "code",
   "execution_count": 1,
   "metadata": {},
   "outputs": [
    {
     "data": {
      "text/plain": [
       "6"
      ]
     },
     "execution_count": 1,
     "metadata": {},
     "output_type": "execute_result"
    }
   ],
   "source": [
    "class Solution:\n",
    "    def missingNumber(self, nums):\n",
    "        left, right = 0, len(nums)-1\n",
    "        while left <= right:\n",
    "            mid = (left+right)//2\n",
    "            if nums[mid] > mid:\n",
    "                right = mid - 1\n",
    "            else:\n",
    "                left = mid + 1\n",
    "        return left\n",
    "nums = [0,1,2,3,4,5,7]\n",
    "res = Solution()\n",
    "res.missingNumber(nums)\n",
    "\"\"\"\n",
    "时间复杂度：O(logN)\n",
    "空间复杂度：O(1)\n",
    "\"\"\""
   ]
  },
  {
   "cell_type": "markdown",
   "metadata": {},
   "source": [
    "### 求和做差"
   ]
  },
  {
   "cell_type": "code",
   "execution_count": 4,
   "metadata": {},
   "outputs": [
    {
     "data": {
      "text/plain": [
       "1"
      ]
     },
     "execution_count": 4,
     "metadata": {},
     "output_type": "execute_result"
    }
   ],
   "source": [
    "class Solution:\n",
    "    def missingNumber(self, nums):\n",
    "        l = len(nums)\n",
    "        false_sum = (l+1)*l/2\n",
    "        true_sum = sum(nums)\n",
    "        res = false_sum - true_sum\n",
    "        return int(res)\n",
    "nums = [0]\n",
    "res = Solution()\n",
    "res.missingNumber(nums)\n"
   ]
  },
  {
   "cell_type": "code",
   "execution_count": null,
   "metadata": {},
   "outputs": [],
   "source": []
  }
 ],
 "metadata": {
  "kernelspec": {
   "display_name": "Python 3",
   "language": "python",
   "name": "python3"
  },
  "language_info": {
   "codemirror_mode": {
    "name": "ipython",
    "version": 3
   },
   "file_extension": ".py",
   "mimetype": "text/x-python",
   "name": "python",
   "nbconvert_exporter": "python",
   "pygments_lexer": "ipython3",
   "version": "3.7.6"
  }
 },
 "nbformat": 4,
 "nbformat_minor": 4
}
