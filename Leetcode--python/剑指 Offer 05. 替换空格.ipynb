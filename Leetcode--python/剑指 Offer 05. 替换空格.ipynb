{
 "cells": [
  {
   "cell_type": "markdown",
   "metadata": {},
   "source": [
    "## 剑指 Offer 05. 替换空格\n"
   ]
  },
  {
   "cell_type": "code",
   "execution_count": 3,
   "metadata": {},
   "outputs": [
    {
     "data": {
      "text/plain": [
       "'We%20are%20happy.'"
      ]
     },
     "execution_count": 3,
     "metadata": {},
     "output_type": "execute_result"
    }
   ],
   "source": [
    "class Solution:\n",
    "    def replaceSpace(self, str):\n",
    "        # 使用python内置函数\n",
    "        result = str.replace(' ', '%20')\n",
    "        return result\n",
    "str = \"We are happy.\"\n",
    "result1 = Solution()\n",
    "result1.replaceSpace(str)"
   ]
  },
  {
   "cell_type": "code",
   "execution_count": 4,
   "metadata": {},
   "outputs": [
    {
     "name": "stdout",
     "output_type": "stream",
     "text": [
      "['W', 'e', ' ', 'A', 'r', 'e', ' ', 'H', 'a', 'p', 'p', 'y']\n",
      "We%20Are%20Happy\n"
     ]
    }
   ],
   "source": [
    "# -*- coding:utf-8 -*-\n",
    "class Solution:\n",
    "    # s 源字符串\n",
    "    def replaceSpace(self, s):\n",
    "        s=list(s)\n",
    "        print(s)\n",
    "        l=len(s)\n",
    "        for i in range(l):\n",
    "            if s[i]==' ':\n",
    "                s[i]='%20'\n",
    "        return ''.join(s)\n",
    "q=Solution()\n",
    "p=q.replaceSpace('We Are Happy')\n",
    "print(p)"
   ]
  },
  {
   "cell_type": "code",
   "execution_count": null,
   "metadata": {},
   "outputs": [],
   "source": []
  }
 ],
 "metadata": {
  "kernelspec": {
   "display_name": "Python 3",
   "language": "python",
   "name": "python3"
  },
  "language_info": {
   "codemirror_mode": {
    "name": "ipython",
    "version": 3
   },
   "file_extension": ".py",
   "mimetype": "text/x-python",
   "name": "python",
   "nbconvert_exporter": "python",
   "pygments_lexer": "ipython3",
   "version": "3.7.6"
  }
 },
 "nbformat": 4,
 "nbformat_minor": 4
}
